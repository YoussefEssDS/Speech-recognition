{
 "cells": [
  {
   "cell_type": "markdown",
   "metadata": {},
   "source": [
    "## Introduction: \n",
    "We will try to implement a tool that will guess a word said by the user. For this we will be using the SpeechRecognition package that allow the use of many speech APIs such as: Google Web Speech API which will be used in this tutorial. \n",
    "\n",
    "First, I will download the SpeechRecognition Package via the shell command:\n",
    "\n",
    "#### $ pip install SpeechRecognition.\n"
   ]
  },
  {
   "cell_type": "code",
   "execution_count": 1,
   "metadata": {},
   "outputs": [],
   "source": [
    "import speech_recognition as sr #Importing the package"
   ]
  },
  {
   "cell_type": "code",
   "execution_count": 5,
   "metadata": {},
   "outputs": [],
   "source": [
    "recogn=sr.Recognizer()\n",
    "# The use of the Google Web Speech API requires having Internet connection."
   ]
  },
  {
   "cell_type": "markdown",
   "metadata": {},
   "source": [
    "## I. Speech recognition from Audio files."
   ]
  },
  {
   "cell_type": "markdown",
   "metadata": {},
   "source": [
    "We need now to insert an audio file to to be recognized by the recognizer provided by Google. Although first we need a class that can handle audio files, this class is the AudioFile class it does only support .wav files, so we have to convert the mp3 file we want to use for this test to .wav format. "
   ]
  },
  {
   "cell_type": "code",
   "execution_count": 7,
   "metadata": {},
   "outputs": [],
   "source": [
    "Faudio=sr.AudioFile('IM BANNED.wav')\n",
    "with Faudio as source:\n",
    "    audioDt=recogn.record(source)\n",
    "#audioDt is of type AudioData so we are ready to recognize the speech in the audio now. "
   ]
  },
  {
   "cell_type": "code",
   "execution_count": 8,
   "metadata": {},
   "outputs": [
    {
     "data": {
      "text/plain": [
       "\"yeah I got banned from events and here's I went out I did nothing wrong man I did nothing wrong or whatsoever I got banned I didn't even know I got banned I didn't get no email I didn't get no explanation I didn't get no chance to explain myself and I got a message from Doug zeif that I got banned from Kona me doesn't even message me and tell me that I'm banned so I got banned for my video I made where I jokingly made a video I just jokingly jokingly told the world that I stalled for time I didn't stall for time anyone with a brain would realize it was a joke it was a joke that was it was a good joke at the time\""
      ]
     },
     "execution_count": 8,
     "metadata": {},
     "output_type": "execute_result"
    }
   ],
   "source": [
    "recogn.recognize_google(audioDt)"
   ]
  },
  {
   "cell_type": "markdown",
   "metadata": {},
   "source": [
    "As you can notice the audio is recognized with a high accuracy, some words might be not as intended from the speaker but this tho to the way of pronunciation of the speaker, otherways this tools does a pretty good job turning speech into transcript.\n",
    "\n",
    "One more thing is that, this recognizer is like all other recognizers is sensible to noise, let's try a noisy audio and see how well would the speech recognizer will do."
   ]
  },
  {
   "cell_type": "code",
   "execution_count": 9,
   "metadata": {},
   "outputs": [],
   "source": [
    "FNaudio=sr.AudioFile('noise.wav')\n",
    "with FNaudio as source:\n",
    "    audioDt=recogn.record(source) "
   ]
  },
  {
   "cell_type": "code",
   "execution_count": 10,
   "metadata": {},
   "outputs": [
    {
     "data": {
      "text/plain": [
       "\"this one woman spilled her oatmeal someone else's kid tried eating it bag and grab a deodorant and he like opens it starts like putting it all over his body like on top of his clothes\""
      ]
     },
     "execution_count": 10,
     "metadata": {},
     "output_type": "execute_result"
    }
   ],
   "source": [
    "recogn.recognize_google(audioDt)"
   ]
  },
  {
   "cell_type": "markdown",
   "metadata": {},
   "source": [
    "We notice that due to the noise at the back ground the recognizer didn't do very good on this audio, so as a conclusion noise is a really important factor to which we must pay attention when trying speech recogition."
   ]
  },
  {
   "cell_type": "markdown",
   "metadata": {},
   "source": [
    "## II. Speech recognition from Microphoe input: "
   ]
  },
  {
   "cell_type": "code",
   "execution_count": null,
   "metadata": {},
   "outputs": [],
   "source": []
  }
 ],
 "metadata": {
  "kernelspec": {
   "display_name": "Python 3",
   "language": "python",
   "name": "python3"
  },
  "language_info": {
   "codemirror_mode": {
    "name": "ipython",
    "version": 3
   },
   "file_extension": ".py",
   "mimetype": "text/x-python",
   "name": "python",
   "nbconvert_exporter": "python",
   "pygments_lexer": "ipython3",
   "version": "3.7.3"
  }
 },
 "nbformat": 4,
 "nbformat_minor": 2
}
